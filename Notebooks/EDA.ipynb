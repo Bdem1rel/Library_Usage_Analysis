{
 "cells": [
  {
   "cell_type": "code",
   "execution_count": 1,
   "id": "5b57c581",
   "metadata": {},
   "outputs": [],
   "source": [
    "import pandas as pd\n",
    "import numpy as np\n",
    "from sklearn.impute import KNNImputer\n",
    "\n",
    "\n",
    "library_df = pd.read_csv(\"../Datasets/Merged_Data/merged_data.csv\")\n",
    "\n",
    "final_features = [\n",
    "    \"UNEMPLOYMENT_RATE\", \"POPULATION\", \"MEDIAN_INCOME\", \"BACHELORS_PERCENT\",\n",
    "    \"TOTCIR\", \"F_TOTCIR\", \"VISITS\", \"F_VISITS\", \"REGBOR\", \"F_REGBOR\", \"GPTERMS\",\n",
    "    \"F_GPTERM\", \"TOTSTAFF\", \"F_TOTSTF\", \"HRS_OPEN\", \"F_HRS_OP\", \"TOTPRO\", \"F_TOTPRO\",\n",
    "    \"TOTATTEN\", \"F_TOTATT\", \"TOTINCM\", \"F_TOTINC\", \"TOTOPEXP\", \"F_TOTOPX\"\n",
    "    ]\n",
    "\n",
    "analysis_df = library_df.loc[:, final_features].copy()"
   ]
  },
  {
   "cell_type": "code",
   "execution_count": null,
   "id": "50583685",
   "metadata": {},
   "outputs": [],
   "source": [
    "# Step 1a: Replace the sentinel for missing income\n",
    "analysis_df[\"MEDIAN_INCOME\"] = analysis_df[\"MEDIAN_INCOME\"].replace(-666666666.0, np.nan)\n",
    "\n",
    "# Step 1b: Treat zeros in the other three features as missing\n",
    "for col in [\"POPULATION\", \"BACHELORS_PERCENT\", \"UNEMPLOYMENT_RATE\"]:\n",
    "    analysis_df[col] = analysis_df[col].replace(0.0, np.nan)\n",
    "\n",
    "# Step 1c: Drop ZIPs with truly zero population\n",
    "analysis_df = analysis_df[analysis_df[\"POPULATION\"].notna()]"
   ]
  },
  {
   "cell_type": "code",
   "execution_count": 3,
   "id": "06672931",
   "metadata": {},
   "outputs": [],
   "source": [
    "feature_to_flag = {\n",
    "    \"TOTCIR\": \"F_TOTCIR\",\n",
    "    \"VISITS\": \"F_VISITS\",\n",
    "    \"HRS_OPEN\": \"F_HRS_OP\",\n",
    "    \"GPTERMS\": \"F_GPTERM\",\n",
    "    \"TOTATTEN\": \"F_TOTATT\",\n",
    "    \"REGBOR\": \"F_REGBOR\",\n",
    "    \"TOTPRO\": \"F_TOTPRO\",\n",
    "    \"TOTSTAFF\": \"F_TOTSTF\",\n",
    "    \"TOTINCM\": \"F_TOTINC\",\n",
    "    \"TOTOPEXP\": \"F_TOTOPX\"\n",
    "}\n",
    "\n",
    "drop_flags = ['U_22', 'H_22', 'L_22']"
   ]
  },
  {
   "cell_type": "code",
   "execution_count": null,
   "id": "cf00fac1",
   "metadata": {},
   "outputs": [],
   "source": [
    "# Step 2: Convert -1 and -3 into NaN for each feature\n",
    "for feat in feature_to_flag:\n",
    "    if feat in analysis_df:\n",
    "        analysis_df[feat] = analysis_df[feat].replace([-1, -3], np.nan)"
   ]
  },
  {
   "cell_type": "code",
   "execution_count": null,
   "id": "34df3ad9",
   "metadata": {},
   "outputs": [],
   "source": [
    "# Step 3: Null‑out values whose flag indicates suppression/unusable data\n",
    "for feat, flag in feature_to_flag.items():\n",
    "    if flag in analysis_df.columns:\n",
    "        mask = analysis_df[flag].isin(drop_flags)\n",
    "        analysis_df.loc[mask, feat] = np.nan"
   ]
  },
  {
   "cell_type": "code",
   "execution_count": null,
   "id": "9d0d270c",
   "metadata": {},
   "outputs": [],
   "source": [
    "# Step 4: Create binary “_imputed” indicator columns\n",
    "for feat, flag in feature_to_flag.items():\n",
    "    if flag in analysis_df.columns:\n",
    "        analysis_df[f\"{feat}_imputed\"] = analysis_df[flag].str.startswith(\"I\")"
   ]
  },
  {
   "cell_type": "code",
   "execution_count": null,
   "id": "745296c2",
   "metadata": {},
   "outputs": [],
   "source": [
    "# Step 5: Drop the original F_* flag columns\n",
    "analysis_df.drop(columns=list(feature_to_flag.values()), inplace=True)"
   ]
  },
  {
   "cell_type": "code",
   "execution_count": null,
   "id": "d1c3f579",
   "metadata": {},
   "outputs": [],
   "source": [
    "# Step 6a: List all columns to feed into the imputer:\n",
    "numeric_cols = list(feature_to_flag.keys()) + [\"MEDIAN_INCOME\", \"BACHELORS_PERCENT\", \"UNEMPLOYMENT_RATE\"]\n",
    "\n",
    "# Step 6b: Instantiate and apply KNNImputer\n",
    "knn = KNNImputer(n_neighbors=5)\n",
    "analysis_df[numeric_cols] = knn.fit_transform(analysis_df[numeric_cols])"
   ]
  }
 ],
 "metadata": {
  "kernelspec": {
   "display_name": "library_env",
   "language": "python",
   "name": "python3"
  },
  "language_info": {
   "codemirror_mode": {
    "name": "ipython",
    "version": 3
   },
   "file_extension": ".py",
   "mimetype": "text/x-python",
   "name": "python",
   "nbconvert_exporter": "python",
   "pygments_lexer": "ipython3",
   "version": "3.13.2"
  }
 },
 "nbformat": 4,
 "nbformat_minor": 5
}
