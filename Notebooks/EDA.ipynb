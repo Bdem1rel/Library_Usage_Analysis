{
 "cells": [
  {
   "cell_type": "code",
   "execution_count": 1,
   "id": "5b57c581",
   "metadata": {},
   "outputs": [],
   "source": [
    "import pandas as pd\n",
    "from sklearn.impute import KNNImputer\n",
    "\n",
    "library_df = pd.read_csv(\"../Datasets/Merged_Data/merged_data.csv\")\n",
    "\n",
    "final_features = [\n",
    "    \"UNEMPLOYMENT_RATE\", \"POPULATION\", \"MEDIAN_INCOME\", \"BACHELORS_PERCENT\",\n",
    "    \"TOTCIR\", \"F_TOTCIR\", \"VISITS\", \"F_VISITS\", \"REGBOR\", \"F_REGBOR\", \"GPTERMS\",\n",
    "    \"F_GPTERM\", \"TOTSTAFF\", \"F_TOTSTF\", \"HRS_OPEN\", \"F_HRS_OP\", \"TOTPRO\", \"F_TOTPRO\",\n",
    "    \"TOTATTEN\", \"F_TOTATT\", \"TOTINCM\", \"F_TOTINC\", \"TOTOPEXP\", \"F_TOTOPX\"\n",
    "    ]\n",
    "\n",
    "analysis_df = library_df.loc[:, final_features].copy()"
   ]
  },
  {
   "cell_type": "markdown",
   "id": "b4527104",
   "metadata": {},
   "source": [
    "Replacing values like -666666666.0, 0.0 with NaN on the 4 columns"
   ]
  },
  {
   "cell_type": "code",
   "execution_count": 2,
   "id": "9fcf5d74",
   "metadata": {},
   "outputs": [],
   "source": [
    "analysis_df[\"MEDIAN_INCOME\"] = analysis_df[\"MEDIAN_INCOME\"].replace(-666666666.0, pd.NA)\n",
    "analysis_df[[\"UNEMPLOYMENT_RATE\", \"POPULATION\", \"BACHELORS_PERCENT\"]] = analysis_df[[\"UNEMPLOYMENT_RATE\", \"POPULATION\", \"BACHELORS_PERCENT\"]].replace(0.0, pd.NA)\n"
   ]
  },
  {
   "cell_type": "markdown",
   "id": "42ce8c54",
   "metadata": {},
   "source": [
    "Dropping rows with population zero and imputing other 3 census columns with mean"
   ]
  },
  {
   "cell_type": "code",
   "execution_count": 3,
   "id": "06b007c8",
   "metadata": {},
   "outputs": [
    {
     "name": "stderr",
     "output_type": "stream",
     "text": [
      "C:\\Users\\berke\\AppData\\Local\\Temp\\ipykernel_8704\\2215403553.py:6: FutureWarning: Downcasting object dtype arrays on .fillna, .ffill, .bfill is deprecated and will change in a future version. Call result.infer_objects(copy=False) instead. To opt-in to the future behavior, set `pd.set_option('future.no_silent_downcasting', True)`\n",
      "  analysis_df[col] = analysis_df[col].fillna(analysis_df[col].median()).infer_objects(copy=False)\n",
      "C:\\Users\\berke\\AppData\\Local\\Temp\\ipykernel_8704\\2215403553.py:6: FutureWarning: Downcasting object dtype arrays on .fillna, .ffill, .bfill is deprecated and will change in a future version. Call result.infer_objects(copy=False) instead. To opt-in to the future behavior, set `pd.set_option('future.no_silent_downcasting', True)`\n",
      "  analysis_df[col] = analysis_df[col].fillna(analysis_df[col].median()).infer_objects(copy=False)\n",
      "C:\\Users\\berke\\AppData\\Local\\Temp\\ipykernel_8704\\2215403553.py:6: FutureWarning: Downcasting object dtype arrays on .fillna, .ffill, .bfill is deprecated and will change in a future version. Call result.infer_objects(copy=False) instead. To opt-in to the future behavior, set `pd.set_option('future.no_silent_downcasting', True)`\n",
      "  analysis_df[col] = analysis_df[col].fillna(analysis_df[col].median()).infer_objects(copy=False)\n"
     ]
    }
   ],
   "source": [
    "analysis_df = analysis_df.dropna(subset=[\"POPULATION\"])\n",
    "\n",
    "analysis_df[\"POPULATION\"] = analysis_df[\"POPULATION\"].apply(pd.to_numeric, errors='coerce')\n",
    "\n",
    "for col in [\"UNEMPLOYMENT_RATE\", \"BACHELORS_PERCENT\", \"MEDIAN_INCOME\"]:\n",
    "    analysis_df[col] = analysis_df[col].fillna(analysis_df[col].median()).infer_objects(copy=False)\n"
   ]
  },
  {
   "cell_type": "code",
   "execution_count": 4,
   "id": "669fc4c0",
   "metadata": {},
   "outputs": [],
   "source": [
    "library_features = [\"TOTCIR\", \"VISITS\", \"REGBOR\", \"GPTERMS\", \"TOTSTAFF\", \"HRS_OPEN\", \"TOTPRO\", \"TOTATTEN\", \"TOTINCM\", \"TOTOPEXP\"]\n",
    "\n",
    "# Replace placeholders (-1, -3) with NaN\n",
    "for feature in library_features:\n",
    "    analysis_df[feature] = analysis_df[feature].replace([-1, -3], pd.NA)\n"
   ]
  },
  {
   "cell_type": "code",
   "execution_count": 5,
   "id": "d0d91ec9",
   "metadata": {},
   "outputs": [],
   "source": [
    "imputation_flag_mapping = {\n",
    "    \"R_22\": \"reported\",\n",
    "    \"E_22\": \"edited\",\n",
    "    \"IG21\": \"imputed_growth\",\n",
    "    \"IQ22\": \"adjusted_cell_mean\",\n",
    "    \"IJ22\": \"unadjusted_cell_mean\",\n",
    "    \"ID22\": \"cell_median_ratio\",\n",
    "    \"IP21\": \"carried_forward\",\n",
    "    \"IM22\": \"unadjusted_median\",\n",
    "    \"IT22\": \"total_detail_relationship\",\n",
    "    \"IB22\": \"raked_to_totals\",\n",
    "    \"IS22\": \"special_imputation\",\n",
    "    \"IY22\": \"consistency_derived\",\n",
    "    \"U_22\": \"not_imputed\",\n",
    "    \"H_22\": \"suppressed_confidential\",\n",
    "    \"L_22\": \"suppressed_analytic\"\n",
    "}\n",
    "\n",
    "feature_to_flag = {\n",
    "    \"TOTCIR\": \"F_TOTCIR\",\n",
    "    \"VISITS\": \"F_VISITS\",\n",
    "    \"HRS_OPEN\": \"F_HRS_OP\",\n",
    "    \"GPTERMS\": \"F_GPTERM\",\n",
    "    \"TOTATTEN\": \"F_TOTATT\",\n",
    "    \"REGBOR\": \"F_REGBOR\",\n",
    "    \"TOTPRO\": \"F_TOTPRO\",\n",
    "    \"TOTSTAFF\": \"F_TOTSTF\",\n",
    "    \"TOTINCM\" : \"F_TOTINC\",\n",
    "    \"TOTOPEXP\" : \"F_TOTOPX\"\n",
    "}\n",
    "\n",
    "imputation_flag_features = [\"F_TOTCIR\", \"F_VISITS\", \"F_REGBOR\", \"F_GPTERM\", \"F_TOTSTF\", \"F_HRS_OP\", \"F_TOTPRO\", \"F_TOTATT\", \"F_TOTINC\", \"F_TOTOPX\"]\n",
    "\n",
    "# Apply mapping to flag columns (e.g., F_TOTCIR)\n",
    "for flag_col in imputation_flag_features:\n",
    "    analysis_df[f\"{flag_col}_CATEGORY\"] = analysis_df[flag_col].map(imputation_flag_mapping)\n",
    "\n",
    "for flag_col in imputation_flag_features:\n",
    "    # Binary flag for imputation (1 = imputed, 0 = reported/edited)\n",
    "    analysis_df[f\"{flag_col}_IMPUTED\"] = analysis_df[flag_col].isin([\n",
    "        \"IG21\", \"IQ22\", \"IJ22\", \"ID22\", \"IP21\", \"IM22\", \"IT22\", \"IB22\", \"IS22\", \"IY22\"\n",
    "        ]).astype(int)\n",
    "    # Binary flag for suppression (1 = suppressed)\n",
    "    analysis_df[f\"{flag_col}_SUPPRESSED\"] = analysis_df[flag_col].isin([\"H_22\", \"L_22\"]).astype(int)\n",
    "\n",
    "# Identify rows with suppressed data in any feature\n",
    "suppressed_columns = [f\"{flag_col}_SUPPRESSED\" for flag_col in imputation_flag_features]\n",
    "analysis_df[\"ANY_SUPPRESSED\"] = analysis_df[suppressed_columns].any(axis=1)\n",
    "analysis_df = analysis_df[~analysis_df[\"ANY_SUPPRESSED\"]]\n",
    "\n",
    "for feature in [\"TOTCIR\", \"VISITS\", \"HRS_OPEN\", \"GPTERMS\", \"TOTATTEN\"]:\n",
    "    flag_col = f\"{feature_to_flag[feature]}_CATEGORY\"\n",
    "    analysis_df = analysis_df[analysis_df[flag_col] != \"not_imputed\"] # Drop U_22 rows\n",
    "\n",
    "for feature in [\"REGBOR\", \"TOTPRO\", \"TOTSTAFF\", \"TOTINCM\", \"TOTOPEXP\"]:\n",
    "    flag_col = f\"{feature_to_flag[feature]}_CATEGORY\"\n",
    "    analysis_df[feature] = analysis_df[feature].mask(\n",
    "        analysis_df[flag_col] == \"not_imputed\", analysis_df[feature].median() # Impute with median\n",
    "    )\n"
   ]
  },
  {
   "cell_type": "code",
   "execution_count": 6,
   "id": "3f3fb3a4",
   "metadata": {},
   "outputs": [
    {
     "name": "stdout",
     "output_type": "stream",
     "text": [
      "TOTCIR      0\n",
      "VISITS      0\n",
      "REGBOR      0\n",
      "GPTERMS     0\n",
      "TOTSTAFF    0\n",
      "HRS_OPEN    0\n",
      "TOTPRO      0\n",
      "TOTATTEN    0\n",
      "TOTINCM     0\n",
      "TOTOPEXP    0\n",
      "dtype: int64\n"
     ]
    }
   ],
   "source": [
    "imputer = KNNImputer(n_neighbors=3)\n",
    "analysis_df[library_features] = imputer.fit_transform(analysis_df[library_features])\n",
    "print(analysis_df[library_features].isna().sum())"
   ]
  }
 ],
 "metadata": {
  "kernelspec": {
   "display_name": "library_env",
   "language": "python",
   "name": "python3"
  },
  "language_info": {
   "codemirror_mode": {
    "name": "ipython",
    "version": 3
   },
   "file_extension": ".py",
   "mimetype": "text/x-python",
   "name": "python",
   "nbconvert_exporter": "python",
   "pygments_lexer": "ipython3",
   "version": "3.13.2"
  }
 },
 "nbformat": 4,
 "nbformat_minor": 5
}
